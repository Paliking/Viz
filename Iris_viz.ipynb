{
  "cells": [
    {
      "cell_type": "markdown",
      "metadata": {
        "_cell_guid": "3eced819-8df7-45d5-8d14-2abcaae6f817"
      },
      "source": [
        "## This notebook demos Python data visualizations on the Iris dataset\n",
        "\n",
        "This Python 3 environment comes with many helpful analytics libraries installed. It is defined by the [kaggle/python docker image](https://github.com/kaggle/docker-python)\n",
        "\n",
        "We'll use three libraries for this tutorial: [pandas](http://pandas.pydata.org/), [matplotlib](http://matplotlib.org/), and [seaborn](http://stanford.edu/~mwaskom/software/seaborn/).\n",
        "\n",
        "Press \"Fork\" at the top-right of this screen to run this notebook yourself and build each of the examples."
      ]
    },
    {
      "cell_type": "code",
      "execution_count": null,
      "metadata": {
        "_cell_guid": "7568c9b6-c857-4567-9868-d45fc43107d7"
      },
      "outputs": [],
      "source": [
        "# First, we'll import pandas, a data processing and CSV file I/O library\n",
        "import pandas as pd\n",
        "\n",
        "# We'll also import seaborn, a Python graphing library\n",
        "import warnings # current version of seaborn generates a bunch of warnings that we'll ignore\n",
        "warnings.filterwarnings(\"ignore\")\n",
        "import seaborn as sns\n",
        "import matplotlib.pyplot as plt\n",
        "sns.set(style=\"white\", color_codes=True)\n",
        "\n",
        "# Next, we'll load the Iris flower dataset, which is in the \"../input/\" directory\n",
        "iris = pd.read_csv(\"../input/Iris.csv\") # the iris dataset is now a Pandas DataFrame\n",
        "\n",
        "# Let's see what's in the iris data - Jupyter notebooks print the result of the last thing you do\n",
        "iris.head()\n",
        "\n",
        "# Press shift+enter to execute this cell"
      ]
    },
    {
      "cell_type": "code",
      "execution_count": null,
      "metadata": {
        "_cell_guid": "9d94dba5-f544-4bf9-b2aa-56b335abb9fa"
      },
      "outputs": [],
      "source": [
        "# Let's see how many examples we have of each species\n",
        "iris[\"Species\"].value_counts()"
      ]
    },
    {
      "cell_type": "code",
      "execution_count": null,
      "metadata": {
        "_cell_guid": "e56920aa-d417-48fd-a97f-5d387647b30d"
      },
      "outputs": [],
      "source": [
        "# The first way we can plot things is using the .plot extension from Pandas dataframes\n",
        "# We'll use this to make a scatterplot of the Iris features.\n",
        "iris.plot(kind=\"scatter\", x=\"SepalLengthCm\", y=\"SepalWidthCm\")"
      ]
    },
    {
      "cell_type": "code",
      "execution_count": null,
      "metadata": {
        "_cell_guid": "15d001a8-9287-4206-9751-2e8ab1adc152"
      },
      "outputs": [],
      "source": [
        "# We can also use the seaborn library to make a similar plot\n",
        "# A seaborn jointplot shows bivariate scatterplots and univariate histograms in the same figure\n",
        "sns.jointplot(x=\"SepalLengthCm\", y=\"SepalWidthCm\", data=iris, size=5)"
      ]
    },
    {
      "cell_type": "code",
      "execution_count": null,
      "metadata": {
        "_cell_guid": "f3c724ee-d9a4-4959-93d2-6f39e01a5172"
      },
      "outputs": [],
      "source": [
        "# One piece of information missing in the plots above is what species each plant is\n",
        "# We'll use seaborn's FacetGrid to color the scatterplot by species\n",
        "sns.FacetGrid(iris, hue=\"Species\", size=5) \\\n",
        "   .map(plt.scatter, \"SepalLengthCm\", \"SepalWidthCm\") \\\n",
        "   .add_legend()"
      ]
    },
    {
      "cell_type": "code",
      "execution_count": null,
      "metadata": {
        "_cell_guid": "c15b74fc-2009-4c77-ae1f-c81bb18d2f1f"
      },
      "outputs": [],
      "source": [
        "# We can look at an individual feature in Seaborn through a boxplot\n",
        "sns.boxplot(x=\"Species\", y=\"PetalLengthCm\", data=iris)"
      ]
    },
    {
      "cell_type": "code",
      "execution_count": null,
      "metadata": {
        "_cell_guid": "c364def8-4ad1-4c7d-a476-dfab09b2ad69"
      },
      "outputs": [],
      "source": [
        "# One way we can extend this plot is adding a layer of individual points on top of\n",
        "# it through Seaborn's striplot\n",
        "# \n",
        "# We'll use jitter=True so that all the points don't fall in single vertical lines\n",
        "# above the species\n",
        "#\n",
        "# Saving the resulting axes as ax each time causes the resulting plot to be shown\n",
        "# on top of the previous axes\n",
        "ax = sns.boxplot(x=\"Species\", y=\"PetalLengthCm\", data=iris)\n",
        "ax = sns.stripplot(x=\"Species\", y=\"PetalLengthCm\", data=iris, jitter=True, edgecolor=\"gray\")"
      ]
    },
    {
      "cell_type": "code",
      "execution_count": null,
      "metadata": {
        "_cell_guid": "9e4333cf-9bcd-467c-8405-5ff723f74af5"
      },
      "outputs": [],
      "source": [
        "# A violin plot combines the benefits of the previous two plots and simplifies them\n",
        "# Denser regions of the data are fatter, and sparser thiner in a violin plot\n",
        "sns.violinplot(x=\"Species\", y=\"PetalLengthCm\", data=iris, size=6)"
      ]
    },
    {
      "cell_type": "code",
      "execution_count": null,
      "metadata": {
        "_cell_guid": "de0db881-e2cb-49e8-b599-9c4754de16eb"
      },
      "outputs": [],
      "source": [
        "# A final seaborn plot useful for looking at univariate relations is the kdeplot,\n",
        "# which creates and visualizes a kernel density estimate of the underlying feature\n",
        "sns.FacetGrid(iris, hue=\"Species\", size=6) \\\n",
        "   .map(sns.kdeplot, \"PetalLengthCm\") \\\n",
        "   .add_legend()"
      ]
    },
    {
      "cell_type": "code",
      "execution_count": null,
      "metadata": {
        "_cell_guid": "013eb630-c103-4364-a0b3-e6a56053a565"
      },
      "outputs": [],
      "source": [
        "# Another useful seaborn plot is the pairplot, which shows the bivariate relation\n",
        "# between each pair of features\n",
        "# \n",
        "# From the pairplot, we'll see that the Iris-setosa species is separataed from the other\n",
        "# two across all feature combinations\n",
        "sns.pairplot(iris.drop(\"Id\", axis=1), hue=\"Species\", size=3)"
      ]
    },
    {
      "cell_type": "code",
      "execution_count": null,
      "metadata": {
        "_cell_guid": "f662273f-ce6a-4caa-bfa3-6776239f5bf0"
      },
      "outputs": [],
      "source": [
        "# The diagonal elements in a pairplot show the histogram by default\n",
        "# We can update these elements to show other things, such as a kde\n",
        "sns.pairplot(iris.drop(\"Id\", axis=1), hue=\"Species\", size=3, diag_kind=\"kde\")"
      ]
    },
    {
      "cell_type": "code",
      "execution_count": null,
      "metadata": {
        "_cell_guid": "b15636fb-ea96-485a-b8b6-eff1f53462c4"
      },
      "outputs": [],
      "source": [
        "# Now that we've covered seaborn, let's go back to some of the ones we can make with Pandas\n",
        "# We can quickly make a boxplot with Pandas on each feature split out by species\n",
        "iris.drop(\"Id\", axis=1).boxplot(by=\"Species\", figsize=(12, 6))"
      ]
    },
    {
      "cell_type": "code",
      "execution_count": null,
      "metadata": {
        "_cell_guid": "88d1e1d2-bd7f-4569-a821-a3ffdd6dcc4d"
      },
      "outputs": [],
      "source": [
        "# One cool more sophisticated technique pandas has available is called Andrews Curves\n",
        "# Andrews Curves involve using attributes of samples as coefficients for Fourier series\n",
        "# and then plotting these\n",
        "from pandas.tools.plotting import andrews_curves\n",
        "andrews_curves(iris.drop(\"Id\", axis=1), \"Species\")"
      ]
    },
    {
      "cell_type": "code",
      "execution_count": null,
      "metadata": {
        "_cell_guid": "911615f8-104b-40ed-b108-cd6a3b7f9a96"
      },
      "outputs": [],
      "source": [
        "# Another multivariate visualization technique pandas has is parallel_coordinates\n",
        "# Parallel coordinates plots each feature on a separate column & then draws lines\n",
        "# connecting the features for each data sample\n",
        "from pandas.tools.plotting import parallel_coordinates\n",
        "parallel_coordinates(iris.drop(\"Id\", axis=1), \"Species\")"
      ]
    },
    {
      "cell_type": "code",
      "execution_count": null,
      "metadata": {
        "_cell_guid": "71464f03-1050-40d2-aa83-4832cd40c9e6"
      },
      "outputs": [],
      "source": [
        "# A final multivariate visualization technique pandas has is radviz\n",
        "# Which puts each feature as a point on a 2D plane, and then simulates\n",
        "# having each sample attached to those points through a spring weighted\n",
        "# by the relative value for that feature\n",
        "from pandas.tools.plotting import radviz\n",
        "radviz(iris.drop(\"Id\", axis=1), \"Species\")"
      ]
    },
    {
      "cell_type": "markdown",
      "metadata": {
        "_cell_guid": "29237af5-5006-47e1-9322-fa4961207e49"
      },
      "source": [
        "# Wrapping Up\n",
        "\n",
        "I hope you enjoyed this quick introduction to some of the quick, simple data visualizations you can create with pandas, seaborn, and matplotlib in Python!\n",
        "\n",
        "I encourage you to run through these examples yourself, tweaking them and seeing what happens. From there, you can try applying these methods to a new dataset and incorprating them into your own workflow!\n",
        "\n",
        "See [Kaggle Datasets](https://www.kaggle.com/datasets) for other datasets to try visualizing. The [World Food Facts data](https://www.kaggle.com/openfoodfacts/world-food-facts) is an especially rich one for visualization."
      ]
    }
  ],
  "metadata": {
    "_change_revision": 0,
    "_is_fork": false,
    "kernelspec": {
      "display_name": "Python 3",
      "language": "python",
      "name": "python3"
    },
    "language_info": {
      "codemirror_mode": {
        "name": "ipython",
        "version": 3
      },
      "file_extension": ".py",
      "mimetype": "text/x-python",
      "name": "python",
      "nbconvert_exporter": "python",
      "pygments_lexer": "ipython3",
      "version": "3.6.0"
    }
  },
  "nbformat": 4,
  "nbformat_minor": 0
}